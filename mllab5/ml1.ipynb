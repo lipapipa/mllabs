{
 "cells": [
  {
   "cell_type": "code",
   "execution_count": null,
   "id": "1e084332",
   "metadata": {},
   "outputs": [],
   "source": [
    "import torch\n",
    "from torchvision import transforms\n",
    "from PIL import Image, ImageOps, ImageEnhance  \n",
    "import os \n",
    "import random\n",
    "from datasets import CustomImageDataset\n",
    "from utils import show_images, show_single_augmentation, show_multiple_augmentations\n",
    "from extra_augs import (AddGaussianNoise, RandomErasingCustom, CutOut, \n",
    "                       Solarize, Posterize, AutoContrast, ElasticTransform)\n",
    "from collections import defaultdict"
   ]
  },
  {
   "cell_type": "code",
   "execution_count": null,
   "id": "60c66a0c",
   "metadata": {},
   "outputs": [],
   "source": [
    "# Загрузка датасета без аугментаций\n",
    "root = os.path.abspath(\"E:/vscode files/lab5/data/train\")\n",
    "dataset = CustomImageDataset(root, transform=None, target_size=(224, 224))\n",
    "# Создаем папку для сохранения результатов\n",
    "os.makedirs(\"aug_results\", exist_ok=True)\n",
    "class_counters = defaultdict(int)\n",
    "pipeline = transforms.Compose([transforms.ToTensor(),transforms.RandomHorizontalFlip(1.0), \n",
    "                              transforms.RandomCrop(size=224),transforms.ColorJitter(0.3),\n",
    "                              transforms.RandomRotation(30),transforms.RandomGrayscale(0.1)])\n",
    "    \n",
    "    # Создаем уникальное имя файла\n",
    "\n",
    "\n",
    "# Получаем список классов\n",
    "for i in range(len(dataset)):\n",
    "    original_img, label = dataset[i]  # Получаем и изображение, и метку\n",
    "    augmented_img = pipeline(original_img)\n",
    "    class_name = dataset.classes[label]\n",
    "    class_counters[class_name] += 1\n",
    "    save_path = f\"aug_results/{class_name}_{class_counters[class_name]}.png\"\n",
    "    show_single_augmentation(\n",
    "        original_img=original_img,\n",
    "        augmented_img=augmented_img,\n",
    "        title=f\"Class: {dataset.classes[label]}\" ,\n",
    "         save_path=save_path\n",
    "    )\n",
    "        \n",
    "        # Визуализируем через вашу функцию\n",
    "        \n",
    "\n",
    "print(\"Визуализация завершена. Результаты сохранены в папке 'aug_results'\")"
   ]
  }
 ],
 "metadata": {
  "kernelspec": {
   "display_name": "myenv",
   "language": "python",
   "name": "python3"
  },
  "language_info": {
   "codemirror_mode": {
    "name": "ipython",
    "version": 3
   },
   "file_extension": ".py",
   "mimetype": "text/x-python",
   "name": "python",
   "nbconvert_exporter": "python",
   "pygments_lexer": "ipython3",
   "version": "3.11.4"
  }
 },
 "nbformat": 4,
 "nbformat_minor": 5
}
